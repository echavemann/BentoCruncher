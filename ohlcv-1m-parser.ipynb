{
 "cells": [
  {
   "cell_type": "code",
   "execution_count": 4,
   "metadata": {},
   "outputs": [],
   "source": [
    "import pandas as pd \n",
    "import os\n",
    "from datetime import datetime, timedelta\n",
    "from datetime import datetime\n",
    "import pandas_market_calendars as mcal\n",
    "import json\n",
    "import pandas as pd\n",
    "import os\n",
    "\n",
    "\n",
    "def get_ticker_mapping():\n",
    "    \n",
    "    path = os.getcwd()\n",
    "    file_path = os.path.join(path, \"metadata.json\")\n",
    "\n",
    "    with open(file_path) as f:\n",
    "        meta_data = json.load(f)\n",
    "\n",
    "    mappings = meta_data['symbology']['mappings']\n",
    "    tickers = mappings.keys()\n",
    "\n",
    "    new_mapping = {}\n",
    "    for ticker in tickers:\n",
    "        for dct in mappings[ticker]:\n",
    "            \n",
    "            date_range = pd.date_range(dct['d0'],dct['d1'])\n",
    "            date_str = [d.to_pydatetime().date().strftime(\"%Y-%m-%d\") for d in date_range]\n",
    "            date_str.pop(-1)\n",
    "            \n",
    "            s = dct['s']\n",
    "            \n",
    "            for date in date_str:\n",
    "                if not date in new_mapping: \n",
    "                    new_mapping[date] = {ticker:s}\n",
    "                else:\n",
    "                    new_mapping[date][ticker] = s\n",
    "    \n",
    "    return new_mapping\n",
    "                            \n",
    "            \n",
    "                    \n",
    "def get_date(file_name):\n",
    "    \"\"\"\n",
    "    takes in a file name, outputs the date in the file name as datetime obj\n",
    "    \"\"\"\n",
    "    \n",
    "    year, month, day = '','',''\n",
    "    counter = 0\n",
    "    i = 0\n",
    "    for i in range(len(file_name)):\n",
    "        if file_name[i].isdigit():\n",
    "            if counter < 4:\n",
    "                year += file_name[i]\n",
    "            elif counter < 6:\n",
    "                month += file_name[i]\n",
    "            elif counter < 8:\n",
    "                day += file_name[i]\n",
    "            counter += 1\n",
    "    return datetime(int(year), int(month), int(day)).date().strftime(\"%Y-%m-%d\") \n"
   ]
  },
  {
   "cell_type": "code",
   "execution_count": 5,
   "metadata": {},
   "outputs": [
    {
     "name": "stdout",
     "output_type": "stream",
     "text": [
      "processing xnas-itch-20220103.ohlcv-1m.csv\n"
     ]
    },
    {
     "name": "stderr",
     "output_type": "stream",
     "text": [
      "/var/folders/dx/dqcskx4d3b3f3xqrz21nzw4c0000gn/T/ipykernel_90679/686292598.py:42: FutureWarning: iteritems is deprecated and will be removed in a future version. Use .items instead.\n",
      "  for i, row_value in cleaned['product_id'].iteritems():\n"
     ]
    }
   ],
   "source": [
    "\n",
    "def parse(data_folder_name = 'data'):\n",
    "    \"\"\"\n",
    "    put this file under a folder with supplied name (default to data)\n",
    "    it will parse the raw databento csv under same directory into readable formats\n",
    "    \"\"\"\n",
    "    \n",
    "    file_path = os.getcwd()\n",
    "    files = os.listdir(file_path)\n",
    "    data_files =  []\n",
    "    \n",
    "    for file in files: \n",
    "        if file.endswith('ohlcv-1m.csv'):\n",
    "            data_files.append(file)\n",
    "\n",
    "    mapping = get_ticker_mapping()\n",
    "    \n",
    "    \n",
    "    for file in sorted(data_files):\n",
    "            \n",
    "            print(f\"processing {file}\")\n",
    "            path = os.path.join(file_path,file)\n",
    "            df = pd.read_csv(path)\n",
    "            \n",
    "            d = get_date(file)\n",
    "                \n",
    "            cols = ['ts_event','open','high','low','close']\n",
    "            cleaned = pd.DataFrame()\n",
    "\n",
    "            for col in cols:\n",
    "                if df[col].dtypes != float and col != 'ts_event':\n",
    "                    df[col] = df[col].astype(float)\n",
    "                cleaned[col] = df[col]/1000000000\n",
    "                    \n",
    "            cleaned['ts_event'] = pd.to_datetime(df['ts_event'], unit='ns', origin='unix')\n",
    "            cleaned['volume'] = df['volume']\n",
    "            cleaned['product_id'] = df['product_id']\n",
    "            cleaned['ticker'] = cleaned['product_id']\n",
    "            d = cleaned.iloc[1]['ts_event'].strftime(\"%Y-%m-%d\")\n",
    "            d = mapping[d]\n",
    "            d = dict(zip(d.values(),d.keys()))\n",
    "            t = []\n",
    "            for i, row_value in cleaned['product_id'].iteritems():\n",
    "\n",
    "                t.append( d[str(row_value)])\n",
    "                \n",
    "            cleaned['ticker'] = t\n",
    "\n",
    "            file_name = 's.csv'\n",
    "            file_name = os.path.join(file_path,file_name)\n",
    "            cleaned.to_csv(file_name)\n",
    "\n",
    "            del df\n",
    "            del cleaned\n",
    "\n",
    "\n",
    "parse()\n",
    "            \n",
    "    \n",
    "\n"
   ]
  },
  {
   "cell_type": "code",
   "execution_count": 106,
   "metadata": {},
   "outputs": [
    {
     "name": "stdout",
     "output_type": "stream",
     "text": [
      "{'4748': 'GOOGL', '572': 'AMZN'}\n"
     ]
    }
   ],
   "source": [
    "d = {'GOOGL': '4748', 'AMZN': '572'}\n",
    "\n",
    "print(dict(zip(d.values(),d.keys())))"
   ]
  }
 ],
 "metadata": {
  "kernelspec": {
   "display_name": "base",
   "language": "python",
   "name": "python3"
  },
  "language_info": {
   "codemirror_mode": {
    "name": "ipython",
    "version": 3
   },
   "file_extension": ".py",
   "mimetype": "text/x-python",
   "name": "python",
   "nbconvert_exporter": "python",
   "pygments_lexer": "ipython3",
   "version": "3.9.10 | packaged by conda-forge | (main, Feb  1 2022, 21:27:43) \n[Clang 11.1.0 ]"
  },
  "orig_nbformat": 4,
  "vscode": {
   "interpreter": {
    "hash": "c7cf1142b5ddd1e1daa93191adaf8330dff0916815175c263ce71424b6641312"
   }
  }
 },
 "nbformat": 4,
 "nbformat_minor": 2
}
